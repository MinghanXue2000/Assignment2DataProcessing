{
 "cells": [
  {
   "cell_type": "code",
   "execution_count": 3,
   "id": "11f6cad3",
   "metadata": {},
   "outputs": [],
   "source": [
    "import json\n",
    "\n",
    "input_file = 'D:/Twitter data/twitter-huge.json'\n",
    "output_file = 'small_json_file.json'\n",
    "max_items = 5000\n",
    "\n",
    "with open(input_file, 'r', encoding='utf-8') as f_in, open(output_file, 'w', encoding='utf-8') as f_out:\n",
    "    # 在输出文件中写入 JSON 开始的标识符\n",
    "    f_out.write('[')\n",
    "\n",
    "    for index in range(max_items):\n",
    "        line = f_in.readline()\n",
    "\n",
    "        if not line:\n",
    "            break  # 读取结束或数据不足5000条时跳出循环\n",
    "\n",
    "        # 删除行尾的逗号和换行符\n",
    "        line = line.rstrip(',\\n')\n",
    "\n",
    "        # 将每个 item 转换为 JSON 字符串，并写入输出文件\n",
    "        if index > 0:\n",
    "            f_out.write(',')\n",
    "\n",
    "        f_out.write(line)\n",
    "\n",
    "    # 在输出文件中写入 JSON 结束的标识符\n",
    "    f_out.write(']')"
   ]
  },
  {
   "cell_type": "code",
   "execution_count": 4,
   "id": "c533ba48",
   "metadata": {},
   "outputs": [],
   "source": [
    "input_file = 'D:/Twitter data/twitter-huge.json'\n",
    "output_file = 'median_json_file.json'\n",
    "max_items = 50000\n",
    "\n",
    "with open(input_file, 'r', encoding='utf-8') as f_in, open(output_file, 'w', encoding='utf-8') as f_out:\n",
    "    # 在输出文件中写入 JSON 开始的标识符\n",
    "    f_out.write('[')\n",
    "\n",
    "    for index in range(max_items):\n",
    "        line = f_in.readline()\n",
    "\n",
    "        if not line:\n",
    "            break  # 读取结束或数据不足5000条时跳出循环\n",
    "\n",
    "        # 删除行尾的逗号和换行符\n",
    "        line = line.rstrip(',\\n')\n",
    "\n",
    "        # 将每个 item 转换为 JSON 字符串，并写入输出文件\n",
    "        if index > 0:\n",
    "            f_out.write(',')\n",
    "\n",
    "        f_out.write(line)\n",
    "\n",
    "    # 在输出文件中写入 JSON 结束的标识符\n",
    "    f_out.write(']')"
   ]
  }
 ],
 "metadata": {
  "kernelspec": {
   "display_name": "Python 3",
   "language": "python",
   "name": "python3"
  },
  "language_info": {
   "codemirror_mode": {
    "name": "ipython",
    "version": 3
   },
   "file_extension": ".py",
   "mimetype": "text/x-python",
   "name": "python",
   "nbconvert_exporter": "python",
   "pygments_lexer": "ipython3",
   "version": "3.8.8"
  }
 },
 "nbformat": 4,
 "nbformat_minor": 5
}
