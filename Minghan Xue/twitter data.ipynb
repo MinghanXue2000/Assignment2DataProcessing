{
 "cells": [
  {
   "cell_type": "code",
   "execution_count": 1,
   "id": "2b56b16b",
   "metadata": {},
   "outputs": [],
   "source": [
    "from mpi4py import MPI\n",
    "import json\n",
    "import math\n",
    "import time\n",
    "import os\n",
    "import pandas as pd\n",
    "from collections import Counter\n",
    "from collections import defaultdict\n",
    "import re\n",
    "bad_json = []"
   ]
  },
  {
   "cell_type": "code",
   "execution_count": 2,
   "id": "270b1cce",
   "metadata": {},
   "outputs": [
    {
     "ename": "KeyboardInterrupt",
     "evalue": "",
     "output_type": "error",
     "traceback": [
      "\u001b[1;31m---------------------------------------------------------------------------\u001b[0m",
      "\u001b[1;31mKeyboardInterrupt\u001b[0m                         Traceback (most recent call last)",
      "\u001b[1;32m<ipython-input-2-62a4dab92063>\u001b[0m in \u001b[0;36m<module>\u001b[1;34m\u001b[0m\n\u001b[0;32m     60\u001b[0m     \u001b[0moutput_file\u001b[0m \u001b[1;33m=\u001b[0m \u001b[1;34m\"D:/Twitter data/preprocess_homeless_twitterdata.json\"\u001b[0m\u001b[1;33m\u001b[0m\u001b[1;33m\u001b[0m\u001b[0m\n\u001b[0;32m     61\u001b[0m     \u001b[1;31m#output_file = \"D:/Twitter data/preprocess_data.json\"\u001b[0m\u001b[1;33m\u001b[0m\u001b[1;33m\u001b[0m\u001b[1;33m\u001b[0m\u001b[0m\n\u001b[1;32m---> 62\u001b[1;33m     \u001b[0mprocess_twitter_data\u001b[0m\u001b[1;33m(\u001b[0m\u001b[0minput_file\u001b[0m\u001b[1;33m,\u001b[0m \u001b[0moutput_file\u001b[0m\u001b[1;33m)\u001b[0m\u001b[1;33m\u001b[0m\u001b[1;33m\u001b[0m\u001b[0m\n\u001b[0m",
      "\u001b[1;32m<ipython-input-2-62a4dab92063>\u001b[0m in \u001b[0;36mprocess_twitter_data\u001b[1;34m(input_file, output_file)\u001b[0m\n\u001b[0;32m     47\u001b[0m                         \u001b[0mcurrent_twitter_json\u001b[0m \u001b[1;33m=\u001b[0m \u001b[1;34m\"\"\u001b[0m\u001b[1;33m\u001b[0m\u001b[1;33m\u001b[0m\u001b[0m\n\u001b[0;32m     48\u001b[0m                     \u001b[1;32melse\u001b[0m\u001b[1;33m:\u001b[0m\u001b[1;33m\u001b[0m\u001b[1;33m\u001b[0m\u001b[0m\n\u001b[1;32m---> 49\u001b[1;33m                         \u001b[0mcurrent_twitter_json\u001b[0m \u001b[1;33m+=\u001b[0m \u001b[0mcurrent_line\u001b[0m\u001b[1;33m\u001b[0m\u001b[1;33m\u001b[0m\u001b[0m\n\u001b[0m\u001b[0;32m     50\u001b[0m \u001b[1;33m\u001b[0m\u001b[0m\n\u001b[0;32m     51\u001b[0m                 \u001b[1;32mexcept\u001b[0m \u001b[0mException\u001b[0m \u001b[1;32mas\u001b[0m \u001b[0me\u001b[0m\u001b[1;33m:\u001b[0m\u001b[1;33m\u001b[0m\u001b[1;33m\u001b[0m\u001b[0m\n",
      "\u001b[1;31mKeyboardInterrupt\u001b[0m: "
     ]
    }
   ],
   "source": [
    "import json\n",
    "import re\n",
    "\n",
    "def extract_usefull(input_string: str):\n",
    "    author_id_pattern = r'\"author_id\"\\s*:\\s*\"(\\d+)\"'\n",
    "    full_name_pattern = r'\"full_name\"\\s*:\\s*\"([^\"]+)\"'\n",
    "    input_string += \"  }\"\n",
    "    if input_string[0] == ',':\n",
    "        input_string = input_string[1:]\n",
    "\n",
    "    author_id = re.search(author_id_pattern, input_string)\n",
    "    full_name = re.search(full_name_pattern, input_string)\n",
    "\n",
    "    if author_id and full_name:\n",
    "        return author_id.group(1), full_name.group(1)\n",
    "    else:\n",
    "        return None, None\n",
    "\n",
    "def process_twitter_data(input_file: str, output_file: str):\n",
    "    with open(input_file, \"r\", encoding=\"utf-8\") as f:\n",
    "        with open(output_file, \"w\", encoding=\"utf-8\") as output_f:\n",
    "            output_f.write(\"[\\n\")\n",
    "\n",
    "            current_twitter_json = \"\"\n",
    "            first_output = True\n",
    "            line_number = 0\n",
    "            while True:\n",
    "                try:\n",
    "                    current_line = f.readline()\n",
    "                    line_number += 1\n",
    "                    if not current_line:\n",
    "                        break\n",
    "                    \n",
    "                    if current_line == \" },\\n\" or current_line == \" }\\n\":\n",
    "                        if \"homeless\" in current_twitter_json:\n",
    "                            author_id, full_name = extract_usefull(current_twitter_json)\n",
    "                            if author_id and full_name:\n",
    "                                output_dict = {\n",
    "                                    \"author_id\": author_id,\n",
    "                                    \"full_name\": full_name\n",
    "                                }\n",
    "                                if not first_output:\n",
    "                                    output_f.write(\",\\n\")\n",
    "                                else:\n",
    "                                    first_output = False\n",
    "                                json.dump(output_dict, output_f)\n",
    "                        current_twitter_json = \"\"\n",
    "                    else:\n",
    "                        current_twitter_json += current_line\n",
    "\n",
    "                except Exception as e:\n",
    "                    print(f\"Error while processing line {line_number}: {e}\")\n",
    "                    current_twitter_json = \"\"\n",
    "\n",
    "            output_f.write(\"\\n]\")\n",
    "\n",
    "if __name__ == \"__main__\":\n",
    "    input_file = \"D:/Twitter data/twitter-huge.json\"\n",
    "    #input_file = \"small_json_file.json\"\n",
    "    output_file = \"D:/Twitter data/preprocess_homeless_twitterdata.json\"\n",
    "    #output_file = \"D:/Twitter data/preprocess_data.json\"\n",
    "    process_twitter_data(input_file, output_file)"
   ]
  },
  {
   "cell_type": "code",
   "execution_count": null,
   "id": "9e330dac",
   "metadata": {},
   "outputs": [],
   "source": []
  }
 ],
 "metadata": {
  "kernelspec": {
   "display_name": "Python 3",
   "language": "python",
   "name": "python3"
  },
  "language_info": {
   "codemirror_mode": {
    "name": "ipython",
    "version": 3
   },
   "file_extension": ".py",
   "mimetype": "text/x-python",
   "name": "python",
   "nbconvert_exporter": "python",
   "pygments_lexer": "ipython3",
   "version": "3.8.8"
  }
 },
 "nbformat": 4,
 "nbformat_minor": 5
}
